{
 "metadata": {
  "language_info": {
   "codemirror_mode": {
    "name": "ipython",
    "version": 3
   },
   "file_extension": ".py",
   "mimetype": "text/x-python",
   "name": "python",
   "nbconvert_exporter": "python",
   "pygments_lexer": "ipython3",
   "version": "3.8.3-final"
  },
  "orig_nbformat": 2,
  "kernelspec": {
   "name": "python_defaultSpec_1600243268945",
   "display_name": "Python 3.8.3 64-bit"
  }
 },
 "nbformat": 4,
 "nbformat_minor": 2,
 "cells": [
  {
   "cell_type": "code",
   "execution_count": 1,
   "metadata": {},
   "outputs": [],
   "source": [
    "import time\n",
    "\n",
    "from fca import Concept, Context, calculate_all_concepts\n",
    "from arrow_operators import up_skip_1, up_skip_4, up_skip_8, up_skip_16, up_skip_32, up_skip_64, up_skip_128, up_skip_256"
   ]
  },
  {
   "cell_type": "code",
   "execution_count": 9,
   "metadata": {},
   "outputs": [],
   "source": [
    "up_operators = [up_skip_1, up_skip_4, up_skip_8, up_skip_16, up_skip_32, up_skip_64, up_skip_128, up_skip_256]\n",
    "c = Context.from_fimi('datasets/dna.fimi')\n",
    "\n",
    "results_dna = {}\n",
    "\n",
    "for up in up_operators:\n",
    "    start = time.time()\n",
    "    concepts = calculate_all_concepts(c, up)\n",
    "    end = time.time()\n",
    "    assert len(concepts) == 4483\n",
    "    results_dna[up] = end - start"
   ]
  },
  {
   "cell_type": "code",
   "execution_count": 6,
   "metadata": {
    "tags": []
   },
   "outputs": [
    {
     "output_type": "execute_result",
     "data": {
      "text/plain": "{<function arrow_operators.up_skip_1(input_set, context)>: 71.28211092948914,\n <function arrow_operators.up_skip_4(input_set, context)>: 20.78772473335266,\n <function arrow_operators.up_skip_8(input_set, context)>: 12.08207106590271,\n <function arrow_operators.up_skip_16(input_set, context)>: 7.897388696670532,\n <function arrow_operators.up_skip_32(input_set, context)>: 5.799062967300415,\n <function arrow_operators.up_skip_64(input_set, context)>: 4.650531053543091,\n <function arrow_operators.up_skip_128(input_set, context)>: 4.2727649211883545,\n <function arrow_operators.up_skip_256(input_set, context)>: 4.041315793991089}"
     },
     "metadata": {},
     "execution_count": 6
    }
   ],
   "source": [
    "results"
   ]
  },
  {
   "cell_type": "code",
   "execution_count": 10,
   "metadata": {},
   "outputs": [],
   "source": [
    "up_operators = [up_skip_1, up_skip_4, up_skip_8, up_skip_16, up_skip_32, up_skip_64, up_skip_128, up_skip_256]\n",
    "c = Context.from_fimi('datasets/tic_tac_toe.fimi')\n",
    "\n",
    "results_tic_tac_toe = {}\n",
    "\n",
    "for up in up_operators:\n",
    "    start = time.time()\n",
    "    concepts = calculate_all_concepts(c, up)\n",
    "    end = time.time()\n",
    "    assert len(concepts) == 59505\n",
    "    results_tic_tac_toe[up] = end - start"
   ]
  },
  {
   "cell_type": "code",
   "execution_count": 8,
   "metadata": {},
   "outputs": [
    {
     "output_type": "execute_result",
     "data": {
      "text/plain": "{<function arrow_operators.up_skip_1(input_set, context)>: 18.018470764160156,\n <function arrow_operators.up_skip_4(input_set, context)>: 6.130456924438477,\n <function arrow_operators.up_skip_8(input_set, context)>: 4.260281801223755,\n <function arrow_operators.up_skip_16(input_set, context)>: 3.4066500663757324,\n <function arrow_operators.up_skip_32(input_set, context)>: 3.0076498985290527,\n <function arrow_operators.up_skip_64(input_set, context)>: 2.9057068824768066,\n <function arrow_operators.up_skip_128(input_set, context)>: 2.9413201808929443,\n <function arrow_operators.up_skip_256(input_set, context)>: 3.0121548175811768}"
     },
     "metadata": {},
     "execution_count": 8
    }
   ],
   "source": [
    "results"
   ]
  },
  {
   "cell_type": "code",
   "execution_count": 11,
   "metadata": {},
   "outputs": [],
   "source": [
    "up_operators = [up_skip_1, up_skip_4, up_skip_8, up_skip_16, up_skip_32, up_skip_64, up_skip_128, up_skip_256]\n",
    "c = Context.from_fimi('datasets/wine.fimi')\n",
    "\n",
    "results_wine = {}\n",
    "\n",
    "for up in up_operators:\n",
    "    start = time.time()\n",
    "    concepts = calculate_all_concepts(c, up)\n",
    "    end = time.time()\n",
    "    assert len(concepts) == 5524\n",
    "    results_wine[up] = end - start"
   ]
  },
  {
   "cell_type": "code",
   "execution_count": 12,
   "metadata": {},
   "outputs": [
    {
     "output_type": "execute_result",
     "data": {
      "text/plain": "{<function arrow_operators.up_skip_1(input_set, context)>: 1.324063777923584,\n <function arrow_operators.up_skip_4(input_set, context)>: 1.0699567794799805,\n <function arrow_operators.up_skip_8(input_set, context)>: 1.0361380577087402,\n <function arrow_operators.up_skip_16(input_set, context)>: 1.0236320495605469,\n <function arrow_operators.up_skip_32(input_set, context)>: 1.0286469459533691,\n <function arrow_operators.up_skip_64(input_set, context)>: 1.1023828983306885,\n <function arrow_operators.up_skip_128(input_set, context)>: 1.0735819339752197,\n <function arrow_operators.up_skip_256(input_set, context)>: 1.1382982730865479}"
     },
     "metadata": {},
     "execution_count": 12
    }
   ],
   "source": [
    "results_wine"
   ]
  },
  {
   "cell_type": "code",
   "execution_count": 15,
   "metadata": {
    "tags": []
   },
   "outputs": [],
   "source": [
    "up_operators = [up_skip_1, up_skip_4, up_skip_8, up_skip_16, up_skip_32, up_skip_64, up_skip_128, up_skip_256]\n",
    "c = Context.from_fimi('datasets/cloud.fimi')\n",
    "\n",
    "results_wine = {}\n",
    "\n",
    "for up in up_operators:\n",
    "    start = time.time()\n",
    "    concepts = calculate_all_concepts(c, up)\n",
    "    end = time.time()\n",
    "    assert len(concepts) == 1030\n",
    "    results_wine[up] = end - start"
   ]
  },
  {
   "cell_type": "code",
   "execution_count": 16,
   "metadata": {},
   "outputs": [
    {
     "output_type": "execute_result",
     "data": {
      "text/plain": "{<function arrow_operators.up_skip_1(input_set, context)>: 0.13953804969787598,\n <function arrow_operators.up_skip_4(input_set, context)>: 0.11516380310058594,\n <function arrow_operators.up_skip_8(input_set, context)>: 0.10400986671447754,\n <function arrow_operators.up_skip_16(input_set, context)>: 0.10770702362060547,\n <function arrow_operators.up_skip_32(input_set, context)>: 0.10254526138305664,\n <function arrow_operators.up_skip_64(input_set, context)>: 0.10514020919799805,\n <function arrow_operators.up_skip_128(input_set, context)>: 0.10549092292785645,\n <function arrow_operators.up_skip_256(input_set, context)>: 0.1254279613494873}"
     },
     "metadata": {},
     "execution_count": 16
    }
   ],
   "source": [
    "results_wine"
   ]
  },
  {
   "cell_type": "code",
   "execution_count": 19,
   "metadata": {
    "tags": []
   },
   "outputs": [],
   "source": [
    "up_operators = [up_skip_1, up_skip_4, up_skip_8, up_skip_16, up_skip_32, up_skip_64, up_skip_128, up_skip_256]\n",
    "c = Context.from_fimi('datasets/americas_small.fimi')\n",
    "\n",
    "results_americas_small = {}\n",
    "\n",
    "for up in up_operators:\n",
    "    start = time.time()\n",
    "    concepts = calculate_all_concepts(c, up)\n",
    "    end = time.time()\n",
    "    assert len(concepts) == 2764\n",
    "    results_americas_small[up] = end - start"
   ]
  },
  {
   "cell_type": "code",
   "execution_count": 20,
   "metadata": {},
   "outputs": [
    {
     "output_type": "execute_result",
     "data": {
      "text/plain": "{<function arrow_operators.up_skip_1(input_set, context)>: 15.57621717453003,\n <function arrow_operators.up_skip_4(input_set, context)>: 13.17726993560791,\n <function arrow_operators.up_skip_8(input_set, context)>: 12.793829917907715,\n <function arrow_operators.up_skip_16(input_set, context)>: 12.613324165344238,\n <function arrow_operators.up_skip_32(input_set, context)>: 12.551898002624512,\n <function arrow_operators.up_skip_64(input_set, context)>: 12.583828210830688,\n <function arrow_operators.up_skip_128(input_set, context)>: 12.546671152114868,\n <function arrow_operators.up_skip_256(input_set, context)>: 12.706385135650635}"
     },
     "metadata": {},
     "execution_count": 20
    }
   ],
   "source": [
    "results_americas_small"
   ]
  },
  {
   "cell_type": "code",
   "execution_count": 24,
   "metadata": {
    "tags": []
   },
   "outputs": [],
   "source": [
    "up_operators = [up_skip_1, up_skip_4, up_skip_8, up_skip_16, up_skip_32, up_skip_64, up_skip_128, up_skip_256]\n",
    "c = Context.from_fimi('datasets/advertisement.fimi')\n",
    "\n",
    "results_advertisement = {}\n",
    "\n",
    "for up in up_operators:\n",
    "    start = time.time()\n",
    "    concepts = calculate_all_concepts(c, up)\n",
    "    end = time.time()\n",
    "    assert len(concepts) == 9192\n",
    "    results_advertisement[up] = end - start"
   ]
  },
  {
   "cell_type": "code",
   "execution_count": 25,
   "metadata": {},
   "outputs": [
    {
     "output_type": "execute_result",
     "data": {
      "text/plain": "{<function arrow_operators.up_skip_1(input_set, context)>: 29.810285091400146,\n <function arrow_operators.up_skip_4(input_set, context)>: 19.7763409614563,\n <function arrow_operators.up_skip_8(input_set, context)>: 18.19940209388733,\n <function arrow_operators.up_skip_16(input_set, context)>: 17.275714874267578,\n <function arrow_operators.up_skip_32(input_set, context)>: 17.115566968917847,\n <function arrow_operators.up_skip_64(input_set, context)>: 17.009818077087402,\n <function arrow_operators.up_skip_128(input_set, context)>: 17.35406517982483,\n <function arrow_operators.up_skip_256(input_set, context)>: 16.705493927001953}"
     },
     "metadata": {},
     "execution_count": 25
    }
   ],
   "source": [
    "results_advertisement"
   ]
  },
  {
   "cell_type": "code",
   "execution_count": null,
   "metadata": {},
   "outputs": [],
   "source": []
  }
 ]
}